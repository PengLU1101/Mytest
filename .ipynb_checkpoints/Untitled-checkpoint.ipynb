{
 "cells": [
  {
   "cell_type": "code",
   "execution_count": 5,
   "metadata": {
    "collapsed": true
   },
   "outputs": [],
   "source": [
    "from random import shuffle"
   ]
  },
  {
   "cell_type": "code",
   "execution_count": 6,
   "metadata": {
    "collapsed": true
   },
   "outputs": [],
   "source": [
    "ll = list(range(10))"
   ]
  },
  {
   "cell_type": "code",
   "execution_count": 7,
   "metadata": {
    "collapsed": true
   },
   "outputs": [],
   "source": [
    "def get_list(ll, epo):\n",
    "    shuffle(ll)\n",
    "    for i in range(1):\n",
    "        print(epo, ll)"
   ]
  },
  {
   "cell_type": "code",
   "execution_count": 8,
   "metadata": {},
   "outputs": [
    {
     "name": "stdout",
     "output_type": "stream",
     "text": [
      "0 [9, 1, 5, 8, 7, 0, 4, 6, 2, 3]\n",
      "0 [9, 1, 5, 8, 7, 0, 4, 6, 2, 3]\n",
      "1 [6, 9, 1, 2, 8, 3, 0, 4, 5, 7]\n",
      "1 [6, 9, 1, 2, 8, 3, 0, 4, 5, 7]\n",
      "2 [8, 2, 5, 9, 7, 1, 3, 6, 4, 0]\n",
      "2 [8, 2, 5, 9, 7, 1, 3, 6, 4, 0]\n",
      "3 [8, 0, 9, 2, 6, 1, 5, 3, 7, 4]\n",
      "3 [8, 0, 9, 2, 6, 1, 5, 3, 7, 4]\n",
      "4 [9, 6, 4, 0, 3, 2, 5, 1, 7, 8]\n",
      "4 [9, 6, 4, 0, 3, 2, 5, 1, 7, 8]\n",
      "5 [3, 2, 9, 4, 8, 6, 5, 1, 7, 0]\n",
      "5 [3, 2, 9, 4, 8, 6, 5, 1, 7, 0]\n",
      "6 [7, 1, 4, 6, 2, 0, 9, 3, 8, 5]\n",
      "6 [7, 1, 4, 6, 2, 0, 9, 3, 8, 5]\n",
      "7 [1, 8, 2, 3, 0, 4, 9, 6, 7, 5]\n",
      "7 [1, 8, 2, 3, 0, 4, 9, 6, 7, 5]\n",
      "8 [9, 1, 3, 4, 5, 0, 8, 2, 6, 7]\n",
      "8 [9, 1, 3, 4, 5, 0, 8, 2, 6, 7]\n",
      "9 [5, 0, 9, 2, 8, 1, 4, 6, 3, 7]\n",
      "9 [5, 0, 9, 2, 8, 1, 4, 6, 3, 7]\n",
      "10 [7, 9, 4, 0, 8, 2, 5, 3, 1, 6]\n",
      "10 [7, 9, 4, 0, 8, 2, 5, 3, 1, 6]\n",
      "11 [2, 4, 8, 3, 7, 9, 5, 0, 6, 1]\n",
      "11 [2, 4, 8, 3, 7, 9, 5, 0, 6, 1]\n",
      "12 [5, 6, 8, 4, 9, 7, 2, 3, 1, 0]\n",
      "12 [5, 6, 8, 4, 9, 7, 2, 3, 1, 0]\n",
      "13 [1, 0, 8, 5, 3, 6, 4, 9, 7, 2]\n",
      "13 [1, 0, 8, 5, 3, 6, 4, 9, 7, 2]\n",
      "14 [4, 0, 6, 7, 3, 9, 2, 8, 5, 1]\n",
      "14 [4, 0, 6, 7, 3, 9, 2, 8, 5, 1]\n"
     ]
    }
   ],
   "source": [
    "for i in range(15):\n",
    "    get_list(ll, i)"
   ]
  },
  {
   "cell_type": "code",
   "execution_count": null,
   "metadata": {
    "collapsed": true
   },
   "outputs": [],
   "source": []
  }
 ],
 "metadata": {
  "kernelspec": {
   "display_name": "Python 3",
   "language": "python",
   "name": "python3"
  },
  "language_info": {
   "codemirror_mode": {
    "name": "ipython",
    "version": 3
   },
   "file_extension": ".py",
   "mimetype": "text/x-python",
   "name": "python",
   "nbconvert_exporter": "python",
   "pygments_lexer": "ipython3",
   "version": "3.5.3"
  }
 },
 "nbformat": 4,
 "nbformat_minor": 2
}
