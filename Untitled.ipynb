{
 "cells": [
  {
   "cell_type": "code",
   "execution_count": 5,
   "metadata": {
    "collapsed": true
   },
   "outputs": [],
   "source": [
    "from random import shuffle"
   ]
  },
  {
   "cell_type": "code",
   "execution_count": 6,
   "metadata": {
    "collapsed": true
   },
   "outputs": [],
   "source": [
    "ll = list(range(10))"
   ]
  },
  {
   "cell_type": "code",
   "execution_count": 9,
   "metadata": {
    "collapsed": true
   },
   "outputs": [],
   "source": [
    "def get_list(ll, epo):\n",
    "    shuffle(ll)\n",
    "    for i in range(1):\n",
    "        print(epo, ll)"
   ]
  },
  {
   "cell_type": "code",
   "execution_count": 10,
   "metadata": {},
   "outputs": [
    {
     "name": "stdout",
     "output_type": "stream",
     "text": [
      "0 [2, 6, 9, 8, 7, 4, 1, 0, 3, 5]\n",
      "1 [1, 2, 3, 0, 6, 8, 7, 4, 9, 5]\n",
      "2 [3, 8, 2, 6, 4, 9, 7, 1, 0, 5]\n",
      "3 [4, 8, 3, 0, 6, 1, 5, 2, 9, 7]\n",
      "4 [0, 9, 2, 5, 1, 8, 4, 7, 3, 6]\n",
      "5 [4, 3, 0, 2, 6, 7, 9, 8, 1, 5]\n",
      "6 [2, 9, 5, 7, 0, 4, 1, 6, 3, 8]\n",
      "7 [5, 9, 0, 6, 2, 3, 8, 7, 1, 4]\n",
      "8 [6, 2, 9, 5, 3, 0, 8, 4, 7, 1]\n",
      "9 [3, 1, 0, 2, 6, 5, 8, 7, 4, 9]\n",
      "10 [0, 1, 3, 2, 8, 4, 6, 7, 9, 5]\n",
      "11 [6, 4, 8, 9, 0, 2, 3, 1, 5, 7]\n",
      "12 [9, 2, 8, 6, 0, 7, 5, 4, 3, 1]\n",
      "13 [9, 5, 7, 4, 8, 1, 6, 0, 2, 3]\n",
      "14 [5, 4, 3, 1, 0, 6, 9, 7, 8, 2]\n"
     ]
    }
   ],
   "source": [
    "for i in range(15):\n",
    "    get_list(ll, i)"
   ]
  },
  {
   "cell_type": "code",
   "execution_count": null,
   "metadata": {
    "collapsed": true
   },
   "outputs": [],
   "source": []
  }
 ],
 "metadata": {
  "kernelspec": {
   "display_name": "Python 3",
   "language": "python",
   "name": "python3"
  },
  "language_info": {
   "codemirror_mode": {
    "name": "ipython",
    "version": 3
   },
   "file_extension": ".py",
   "mimetype": "text/x-python",
   "name": "python",
   "nbconvert_exporter": "python",
   "pygments_lexer": "ipython3",
   "version": "3.5.3"
  }
 },
 "nbformat": 4,
 "nbformat_minor": 2
}
